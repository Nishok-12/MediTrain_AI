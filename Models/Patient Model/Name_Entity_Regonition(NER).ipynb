{
 "cells": [
  {
   "cell_type": "markdown",
   "id": "217fb30e-bc2d-45d7-a3da-2821f561fc6b",
   "metadata": {},
   "source": [
    "<h3>Name Entity Regogintion(NER) for Disease and Treatment Mapping</h3>\n",
    "<h4>Used to map the user given diseases and treatment to actual diseases and treatment</h4>"
   ]
  },
  {
   "cell_type": "markdown",
   "id": "b07c2ded-3f0d-48b7-bac6-c72cf31b8546",
   "metadata": {},
   "source": [
    "<h3>Unique Treatment are extracted from dataset and saved as csv</h3>"
   ]
  },
  {
   "cell_type": "code",
   "execution_count": 1,
   "id": "5fc148cd-fc50-4946-99bd-3210e2390f1f",
   "metadata": {},
   "outputs": [
    {
     "name": "stdout",
     "output_type": "stream",
     "text": [
      "Unique treatments saved to 'unique_treatments.csv' successfully!\n"
     ]
    }
   ],
   "source": [
    "import pandas as pd\n",
    "\n",
    "# Load the dataset\n",
    "df = pd.read_csv('symptom_precaution.csv')\n",
    "\n",
    "# Combine the precaution columns into a single text column with $ separation\n",
    "df['Precautions'] = df[['Precaution_1', 'Precaution_2', 'Precaution_3', 'Precaution_4']].apply(lambda row: '$'.join(row), axis=1)\n",
    "\n",
    "# Split the precautions column into separate columns\n",
    "precautions_split = df['Precautions'].str.split('$', expand=True)\n",
    "\n",
    "# Flatten the precautions columns into a single list\n",
    "unique_precautions = set()\n",
    "\n",
    "# Loop through each column of precautions and add unique entries to the set\n",
    "for col in precautions_split.columns:\n",
    "    unique_precautions.update(precautions_split[col].dropna().unique())\n",
    "\n",
    "# Convert the unique precautions to a DataFrame\n",
    "unique_precautions_df = pd.DataFrame(unique_precautions, columns=['Unique_Treatment'])\n",
    "\n",
    "# Save the unique treatments to a new CSV file\n",
    "unique_precautions_df.to_csv('unique_treatments.csv', index=False)\n",
    "\n",
    "print(\"Unique treatments saved to 'unique_treatments.csv' successfully!\")\n"
   ]
  },
  {
   "cell_type": "markdown",
   "id": "76d2df10-e0f5-419a-8b9d-dfe29dabe46b",
   "metadata": {},
   "source": [
    "<h3>Building and Testing NER</h3>"
   ]
  },
  {
   "cell_type": "code",
   "execution_count": 33,
   "id": "6aac6bdd-a231-47f7-a693-3c360a31ee0a",
   "metadata": {},
   "outputs": [
    {
     "name": "stdout",
     "output_type": "stream",
     "text": [
      "Extracted Disease: Heart attack\n",
      "Extracted Treatment: ['keep calm', 'perform CPR if needed']\n"
     ]
    }
   ],
   "source": [
    "import pandas as pd\n",
    "from fuzzywuzzy import process\n",
    "from sklearn.feature_extraction.text import CountVectorizer\n",
    "import re\n",
    "\n",
    "# Step 1: Load symptoms from CSV (make sure it only contains the desired symptoms)\n",
    "df = pd.read_csv('disease.csv')  # Replace with the path to your CSV file\n",
    "disease_list = df['Disease'].dropna().tolist()  # Extract symptoms into a list\n",
    "\n",
    "dff = pd.read_csv('unique_treatments.csv')  # Replace with the path to your CSV file\n",
    "treatment_list = dff['Treatment'].dropna().tolist()  # Extract symptoms into a list\n",
    "\n",
    "# Step 2: Function to generate n-grams (bigrams)\n",
    "def generate_ngrams(text, n=2):\n",
    "    \"\"\"Generate n-grams from text.\"\"\"\n",
    "    vectorizer = CountVectorizer(ngram_range=(n, n), stop_words='english')\n",
    "    ngrams = vectorizer.fit_transform([text])\n",
    "    ngrams_list = vectorizer.get_feature_names_out()\n",
    "    return ngrams_list\n",
    "\n",
    "\n",
    "# Step 3: Function to extract symptoms using fuzzy matching and n-grams\n",
    "def extract_disease_from_input(user_input):\n",
    "    \n",
    "    # Normalize input text\n",
    "    user_input = user_input.lower().strip()\n",
    "\n",
    "    # Generate bigrams from the user input\n",
    "    user_input_bigrams = generate_ngrams(user_input)\n",
    "\n",
    "    # List to store matched disease\n",
    "    matched_disease = []\n",
    "\n",
    "    for disease in disease_list:\n",
    "        # Check if the disease directly matches any bigram\n",
    "        if disease.lower() in user_input:\n",
    "            matched_disease.append(disease)\n",
    "        else:\n",
    "            # Use fuzzy matching to allow for misspellings or slight variations\n",
    "            match = process.extractOne(disease.lower(), user_input_bigrams)\n",
    "            if match and match[1] >= 80:  # Adjust threshold as needed\n",
    "                matched_disease.append(disease)\n",
    "\n",
    "    # Post-processing: Optional, for more fine-tuning, e.g., removing irrelevant matches.\n",
    "    matched_disease = list(set(matched_disease))  # Remove duplicates\n",
    "\n",
    "    # Return the matched disease as a single string, joined by commas\n",
    "    return ', '.join(matched_disease)\n",
    "\n",
    "def extract_treatment_from_input(user_input):\n",
    "\n",
    "    # Normalize input text\n",
    "    user_input = user_input.lower().strip()\n",
    "\n",
    "    # Generate bigrams from the user input\n",
    "    user_input_bigrams = generate_ngrams(user_input)\n",
    "\n",
    "    # List to store matched treatment\n",
    "    matched_treatments = []\n",
    "\n",
    "    for treatment in treatment_list:\n",
    "        # Check if the treatment directly matches any bigram\n",
    "        if treatment.lower() in user_input:\n",
    "            matched_treatments.append(treatment)\n",
    "        else:\n",
    "            # Use fuzzy matching to allow for misspellings or slight variations\n",
    "            match = process.extractOne(treatment.lower(), user_input_bigrams)\n",
    "            if match and match[1] >= 90:  # Adjust threshold as needed\n",
    "                matched_treatments.append(treatment)\n",
    "\n",
    "    # Post-processing: Optional, for more fine-tuning, e.g., removing irrelevant matches.\n",
    "    matched_treatments = list(set(matched_treatments))  # Remove duplicates\n",
    "\n",
    "    # Return the matched symptoms as a single string, joined by commas\n",
    "    return matched_treatments\n",
    "\n",
    "\n",
    "# Example usage:\n",
    "user_input = \"Hello there, I’m really sorry to hear that you're feeling unwell. After reviewing your symptoms, it seems you may be dealing with 'Heart Attack'. I understand this might be worrying, but please know that we can take steps together to help you feel better. 😊💪Please follow the following steps to feel better and work towards your recovery: 1. Call an ambulance immediately if you or someone else is experiencing severe symptoms or if the situation is life-threatening. Time is critical in emergencies, so don’t hesitate to call for professional help.2. Chew or swallow aspirin if advised by a healthcare professional and if you are experiencing chest pain, as it may help prevent further damage to the heart in cases of a heart attack. However, do this only if there are no contraindications for you.3. Keep calm and try to remain composed. Staying calm helps you think clearly and take the necessary actions.4. Perform CPR if needed and if you are trained to do so. Chest compressions can help maintain blood flow until medical professionals arrive.Remember, recovery takes time, but you're not alone in this journey. Stay positive! 🌟\"  # Example user input\n",
    "extracted_disease = extract_disease_from_input(user_input)\n",
    "extracted_treatment = extract_treatment_from_input(user_input)\n",
    "\n",
    "print(\"Extracted Disease:\", extracted_disease)\n",
    "print(\"Extracted Treatment:\", extracted_treatment)\n",
    "\n"
   ]
  }
 ],
 "metadata": {
  "kernelspec": {
   "display_name": "Python 3 (ipykernel)",
   "language": "python",
   "name": "python3"
  },
  "language_info": {
   "codemirror_mode": {
    "name": "ipython",
    "version": 3
   },
   "file_extension": ".py",
   "mimetype": "text/x-python",
   "name": "python",
   "nbconvert_exporter": "python",
   "pygments_lexer": "ipython3",
   "version": "3.12.4"
  }
 },
 "nbformat": 4,
 "nbformat_minor": 5
}
