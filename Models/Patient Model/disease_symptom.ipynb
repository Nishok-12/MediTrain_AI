{
 "cells": [
  {
   "cell_type": "markdown",
   "id": "4cc67ae4-8e63-4ff2-a37b-62d2c5d9324c",
   "metadata": {},
   "source": [
    "<h3>Training Model for Predicting Symptoms using Logistic Regression</h3>"
   ]
  },
  {
   "cell_type": "code",
   "execution_count": 2,
   "id": "f05775c4-a6a9-445f-a52b-7f7cbb276d6c",
   "metadata": {},
   "outputs": [
    {
     "name": "stdout",
     "output_type": "stream",
     "text": [
      "Loading dataset...\n",
      "Dataset loaded with 41 rows and 3 columns.\n",
      "Handling missing values...\n",
      "Combining symptom columns into a single text column...\n",
      "Encoding disease labels...\n",
      "Vectorizing symptoms using TF-IDF...\n",
      "Training Logistic Regression model...\n",
      "Accuracy on the entire dataset: 1.0000\n",
      "Doctor, I’ve been feeling really unwell. I’ve had chills that make me shiver, and I’ve been vomiting on and off. On top of that, I’ve got a high fever that just doesn’t seem to go away. It’s been really hard to manage, and I’m starting to feel weak. Could you tell me what might be going on?$chills, vomiting, high fever\n"
     ]
    }
   ],
   "source": [
    "import pandas as pd\n",
    "from sklearn.preprocessing import LabelEncoder\n",
    "from sklearn.feature_extraction.text import TfidfVectorizer\n",
    "from sklearn.linear_model import LogisticRegression\n",
    "from sklearn.metrics import accuracy_score\n",
    "\n",
    "# 1. Load CSV data\n",
    "print(\"Loading dataset...\")\n",
    "df = pd.read_csv('symptoms.csv')\n",
    "print(f\"Dataset loaded with {df.shape[0]} rows and {df.shape[1]} columns.\")\n",
    "\n",
    "# 2. Handle missing values (Fill missing symptoms with \"No symptom\")\n",
    "print(\"Handling missing values...\")\n",
    "df.fillna('No symptom', inplace=True)\n",
    "\n",
    "# 3. Combine symptom columns into a single text column with \"$\" as the separator\n",
    "print(\"Combining symptom columns into a single text column...\")\n",
    "df['Symptoms'] = df['Symptoms'] + '$' + df['symptom 1']\n",
    "\n",
    "# 4. Encode disease names into numeric labels\n",
    "print(\"Encoding disease labels...\")\n",
    "label_encoder = LabelEncoder()\n",
    "df['Disease_Label'] = label_encoder.fit_transform(df['Disease'])\n",
    "\n",
    "# 5. Define features (X) and labels (y)\n",
    "X = df['Symptoms']  # Text data (symptoms)\n",
    "y = df['Disease_Label']  # Labels (numeric encoded diseases)\n",
    "\n",
    "# 6. TF-IDF Vectorization\n",
    "print(\"Vectorizing symptoms using TF-IDF...\")\n",
    "vectorizer = TfidfVectorizer(max_features=5000, stop_words='english')  # Adjust max_features as needed\n",
    "X_tfidf = vectorizer.fit_transform(X)\n",
    "\n",
    "# 7. Train Logistic Regression model\n",
    "print(\"Training Logistic Regression model...\")\n",
    "model = LogisticRegression(max_iter=1000)  # Increase max_iter if convergence issues occur\n",
    "model.fit(X_tfidf, y)\n",
    "\n",
    "# 8. Evaluate model (optional)\n",
    "y_pred = model.predict(X_tfidf)\n",
    "accuracy = accuracy_score(y, y_pred)\n",
    "print(f\"Accuracy on the entire dataset: {accuracy:.4f}\")\n",
    "\n",
    "# Function to predict symptoms for a given disease\n",
    "def get_symptoms_for_disease(disease_name):\n",
    "    # Predict the disease label from the model based on the symptoms\n",
    "    disease_label = label_encoder.transform([disease_name])[0]  # Get the encoded label\n",
    "    disease_data = df[df['Disease_Label'] == disease_label]\n",
    "    \n",
    "    if disease_data.empty:\n",
    "        return f\"No data found for disease: {disease_name}\"\n",
    "    \n",
    "    # Get symptoms associated with the given disease\n",
    "    symptoms = disease_data['Symptoms'].values[0]\n",
    "    return symptoms\n",
    "\n",
    "# Example of how to use the function\n",
    "disease_name = 'Malaria'  # Replace with the disease name you're looking for\n",
    "result = get_symptoms_for_disease(disease_name)\n",
    "\n",
    "print(result)\n"
   ]
  },
  {
   "cell_type": "markdown",
   "id": "b7e312d0-32d8-410a-9ddb-912532e929db",
   "metadata": {},
   "source": [
    "<h3>Saving the Model</h3>"
   ]
  },
  {
   "cell_type": "code",
   "execution_count": 3,
   "id": "cb5f680f-4328-42bf-924a-92d35a1d7764",
   "metadata": {},
   "outputs": [
    {
     "name": "stdout",
     "output_type": "stream",
     "text": [
      "Saving Logistic Regression model...\n",
      "Saving TF-IDF vectorizer...\n",
      "Saving LabelEncoder...\n",
      "Model, vectorizer, and label encoder saved successfully.\n"
     ]
    }
   ],
   "source": [
    "import joblib\n",
    "\n",
    "# Save the Logistic Regression model\n",
    "print(\"Saving Logistic Regression model...\")\n",
    "joblib.dump(model, 'logistic_regression222_model.pkl')\n",
    "\n",
    "# Save the TF-IDF vectorizer\n",
    "print(\"Saving TF-IDF vectorizer...\")\n",
    "joblib.dump(vectorizer, 'tfidf222_vectorizer.pkl')\n",
    "\n",
    "# Save the LabelEncoder\n",
    "print(\"Saving LabelEncoder...\")\n",
    "joblib.dump(label_encoder, 'label222_encoder.pkl')\n",
    "\n",
    "# If any other preprocessing steps were done, save those as well\n",
    "# For example, saving the entire pipeline if used\n",
    "# joblib.dump(preprocessing_pipeline, 'preprocessing_pipeline.pkl')\n",
    "\n",
    "print(\"Model, vectorizer, and label encoder saved successfully.\")\n"
   ]
  },
  {
   "cell_type": "markdown",
   "id": "3d1ff6d6-5123-4a00-b901-858a455411d5",
   "metadata": {},
   "source": [
    "<h3>Testing the model</h3>"
   ]
  },
  {
   "cell_type": "code",
   "execution_count": 1,
   "id": "ef2aa76e-40e8-47c0-9f4a-4bab221942e3",
   "metadata": {},
   "outputs": [
    {
     "name": "stdout",
     "output_type": "stream",
     "text": [
      "Enter the disease name:  Dengue\n"
     ]
    },
    {
     "name": "stdout",
     "output_type": "stream",
     "text": [
      "Symptoms for Dengue: Doctor, I’ve been running a high fever for the past few days, and I’ve been feeling nauseous pretty frequently. On top of that, I’ve lost my appetite completely, and I can’t seem to eat anything without feeling worse. Can you help me understand what might be causing this?\n",
      "Additional symptom: high fever, nausea, loss of appetite\n"
     ]
    }
   ],
   "source": [
    "import joblib\n",
    "import pandas as pd\n",
    "from sklearn.preprocessing import LabelEncoder  # Import LabelEncoder\n",
    "\n",
    "# Load the saved Logistic Regression model\n",
    "loaded_model = joblib.load('logistic_regression222_model.pkl')\n",
    "\n",
    "# Load the saved TF-IDF vectorizer\n",
    "loaded_vectorizer = joblib.load('tfidf222_vectorizer.pkl')\n",
    "\n",
    "# Load the CSV dataset for symptoms and diseases (same as training data)\n",
    "df = pd.read_csv('symptoms.csv')\n",
    "\n",
    "# Check if 'Disease_Label' exists in the DataFrame\n",
    "if 'Disease_Label' not in df.columns:\n",
    "    # If the 'Disease_Label' doesn't exist, encode the disease labels\n",
    "    label_encoder = LabelEncoder()\n",
    "    df['Disease_Label'] = label_encoder.fit_transform(df['Disease'])\n",
    "\n",
    "# Function to predict symptoms for a given disease\n",
    "def get_symptoms_for_disease(disease_name):\n",
    "    # Encode disease name to its label (using LabelEncoder from the training process)\n",
    "    disease_label = label_encoder.transform([disease_name])[0]  # Get the encoded label\n",
    "\n",
    "    # Filter dataset to find symptoms for the given disease label\n",
    "    disease_data = df[df['Disease_Label'] == disease_label]\n",
    "    \n",
    "    if disease_data.empty:\n",
    "        return f\"No data found for disease: {disease_name}\"\n",
    "    \n",
    "    # Get symptoms associated with the given disease\n",
    "    symptoms = disease_data['Symptoms'].values[0]\n",
    "    symptom_1 = disease_data['symptom 1'].values[0]\n",
    "    return symptoms, symptom_1\n",
    "\n",
    "# Example of how to use the function\n",
    "disease_name = input(\"Enter the disease name: \")  # User provides the disease name\n",
    "result, symptom_1 = get_symptoms_for_disease(disease_name)\n",
    "\n",
    "# Print the symptoms associated with the disease\n",
    "print(f\"Symptoms for {disease_name}: {result}\")\n",
    "print(f\"Additional symptom: {symptom_1}\")\n"
   ]
  },
  {
   "cell_type": "code",
   "execution_count": null,
   "id": "7ebbf18c-2d05-45c6-904b-051455e78c88",
   "metadata": {},
   "outputs": [],
   "source": []
  }
 ],
 "metadata": {
  "kernelspec": {
   "display_name": "Python 3 (ipykernel)",
   "language": "python",
   "name": "python3"
  },
  "language_info": {
   "codemirror_mode": {
    "name": "ipython",
    "version": 3
   },
   "file_extension": ".py",
   "mimetype": "text/x-python",
   "name": "python",
   "nbconvert_exporter": "python",
   "pygments_lexer": "ipython3",
   "version": "3.12.4"
  }
 },
 "nbformat": 4,
 "nbformat_minor": 5
}
