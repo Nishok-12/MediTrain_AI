{
 "cells": [
  {
   "cell_type": "markdown",
   "id": "7ef91a77-b79a-4f33-9b06-96eeeda55a34",
   "metadata": {},
   "source": [
    "<h3>Training and Saving Model for Predecting Treatment using Random Forest Classifier</h3>"
   ]
  },
  {
   "cell_type": "code",
   "execution_count": 2,
   "id": "adca63d7-291e-4bce-baf4-b08c10dc8d5e",
   "metadata": {},
   "outputs": [
    {
     "name": "stdout",
     "output_type": "stream",
     "text": [
      "Enhanced model and vectorizer saved successfully!\n"
     ]
    }
   ],
   "source": [
    "import pandas as pd\n",
    "from sklearn.feature_extraction.text import TfidfVectorizer\n",
    "from sklearn.ensemble import RandomForestClassifier\n",
    "from sklearn.multioutput import MultiOutputClassifier\n",
    "import joblib\n",
    "\n",
    "# 1. Load CSV data\n",
    "df = pd.read_csv('symptom_precaution.csv')\n",
    "\n",
    "# 2. Handle missing values if any\n",
    "df.fillna('No Data', inplace=True)\n",
    "\n",
    "# 3. Combine precaution columns into a single text column with $ separation\n",
    "df['Precautions'] = df[['Precaution_1', 'Precaution_2', 'Precaution_3', 'Precaution_4']].apply(lambda row: '$'.join(row), axis=1)\n",
    "\n",
    "# 4. Split the precautions column into separate columns\n",
    "precautions_split = df['Precautions'].str.split('$', expand=True)\n",
    "\n",
    "# Assign new column names for each precaution\n",
    "precautions_split.columns = ['Precaution_1', 'Precaution_2', 'Precaution_3', 'Precaution_4']\n",
    "\n",
    "# 5. Define Features (X) and Labels (y)\n",
    "X = df['Disease']  # Disease names\n",
    "y = precautions_split  # Separate precaution columns as labels\n",
    "\n",
    "# 6. Vectorize the disease names using an enhanced TF-IDF vectorizer\n",
    "vectorizer = TfidfVectorizer(\n",
    "    max_features=10000,        # Increased vocabulary size\n",
    "    ngram_range=(1, 3),        # Include unigrams, bigrams, and trigrams\n",
    "    stop_words='english',      # Remove common stopwords\n",
    "    sublinear_tf=True          # Sublinear term frequency scaling\n",
    ")\n",
    "\n",
    "X_tfidf = vectorizer.fit_transform(X)\n",
    "\n",
    "# 7. Multi-output Classifier with RandomForest (Enhanced Model)\n",
    "rf_model = RandomForestClassifier(n_estimators=200, random_state=42)\n",
    "multi_rf_model = MultiOutputClassifier(rf_model, n_jobs=-1)\n",
    "\n",
    "# 8. Train the model on the entire dataset\n",
    "multi_rf_model.fit(X_tfidf, y)\n",
    "\n",
    "# 9. Save the model and vectorizer for future use\n",
    "joblib.dump(multi_rf_model, 'enhanced_treatment_prediction_model.joblib')\n",
    "joblib.dump(vectorizer, 'enhanced_vectorizer.joblib')\n",
    "\n",
    "print(\"Enhanced model and vectorizer saved successfully!\")\n"
   ]
  },
  {
   "cell_type": "markdown",
   "id": "79bc87df-2c68-4d56-b229-f827dc4aa326",
   "metadata": {},
   "source": [
    "<h3>Testing Model</h3>"
   ]
  },
  {
   "cell_type": "code",
   "execution_count": 2,
   "id": "6e58bf97-f918-4f48-9135-8fd0f1def13e",
   "metadata": {},
   "outputs": [
    {
     "name": "stdout",
     "output_type": "stream",
     "text": [
      "Predicted treatment for 'Dengue':\n",
      " 1. drink papaya leaf juice\n",
      " 2. avoid fatty spicy food\n",
      " 3. keep mosquitos away\n",
      " 4. keep hydrated\n"
     ]
    }
   ],
   "source": [
    "import joblib\n",
    "\n",
    "dis = \"Dengue\"  # Input disease name\n",
    "\n",
    "# Load the saved model and vectorizer\n",
    "loaded_model = joblib.load('enhanced_treatment_prediction_model.joblib')\n",
    "loaded_vectorizer = joblib.load('enhanced_vectorizer.joblib')\n",
    "\n",
    "# Transform the input disease using the loaded vectorizer\n",
    "sample_disease_tfidf = loaded_vectorizer.transform([dis])\n",
    "\n",
    "# Predict the treatment using the loaded model\n",
    "predicted_precautions = loaded_model.predict(sample_disease_tfidf)\n",
    "\n",
    "# Output the result\n",
    "print(f\"Predicted treatment for '{dis}':\")\n",
    "precaution_index = 1\n",
    "for precaution in predicted_precautions[0]:\n",
    "    # Ensure no leading/trailing spaces and handle cases of empty strings\n",
    "    if precaution.strip():\n",
    "        print(f\" {precaution_index}. {precaution.strip()}\")\n",
    "    precaution_index += 1\n",
    "\n"
   ]
  },
  {
   "cell_type": "code",
   "execution_count": null,
   "id": "3c0fb8d7-c2e0-40ef-b05a-8e4d76670c77",
   "metadata": {},
   "outputs": [],
   "source": []
  }
 ],
 "metadata": {
  "kernelspec": {
   "display_name": "Python 3 (ipykernel)",
   "language": "python",
   "name": "python3"
  },
  "language_info": {
   "codemirror_mode": {
    "name": "ipython",
    "version": 3
   },
   "file_extension": ".py",
   "mimetype": "text/x-python",
   "name": "python",
   "nbconvert_exporter": "python",
   "pygments_lexer": "ipython3",
   "version": "3.12.4"
  }
 },
 "nbformat": 4,
 "nbformat_minor": 5
}
