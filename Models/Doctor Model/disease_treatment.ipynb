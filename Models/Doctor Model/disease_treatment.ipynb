{
 "cells": [
  {
   "cell_type": "markdown",
   "id": "805a0964-de69-4b9c-8acd-9d3da901f3b5",
   "metadata": {},
   "source": [
    "<h3>Training & Saving Treatment  Prediction Model using Logestic Regression</h3>"
   ]
  },
  {
   "cell_type": "code",
   "execution_count": 1,
   "id": "39694cca-c1aa-4fc7-b1ed-06c1629814b0",
   "metadata": {},
   "outputs": [
    {
     "name": "stdout",
     "output_type": "stream",
     "text": [
      "Model and vectorizer saved successfully!\n"
     ]
    }
   ],
   "source": [
    "import pandas as pd\n",
    "from sklearn.feature_extraction.text import TfidfVectorizer\n",
    "from sklearn.linear_model import LogisticRegression\n",
    "from sklearn.metrics import accuracy_score\n",
    "from sklearn.multioutput import MultiOutputClassifier\n",
    "import joblib\n",
    "\n",
    "# 1. Load CSV data\n",
    "df = pd.read_csv('treatment.csv')\n",
    "\n",
    "# 3. Combine precaution columns into a single text column with $ separation\n",
    "df['Precautions'] = df[['Precaution_1', 'Precaution_2', 'Precaution_3', 'Precaution_4']].apply(lambda row: '$'.join(row), axis=1)\n",
    "\n",
    "# 4. Split the precautions column into separate columns\n",
    "precautions_split = df['Precautions'].str.split('$', expand=True)\n",
    "\n",
    "# Assign new column names for each precaution\n",
    "precautions_split.columns = ['Precaution_1', 'Precaution_2', 'Precaution_3', 'Precaution_4']\n",
    "\n",
    "# 5. Define Features (X) and Labels (y)\n",
    "X = df['Disease']  # Disease names\n",
    "y = precautions_split  # Separate precaution columns as labels\n",
    "\n",
    "# 6. Vectorize the disease names using an enhanced TF-IDF vectorizer\n",
    "vectorizer = TfidfVectorizer(\n",
    "    max_features=10000,        # Increased vocabulary size\n",
    "    ngram_range=(1, 3),        # Include unigrams, bigrams, and trigrams\n",
    "    stop_words='english',      # Remove common stopwords\n",
    "    sublinear_tf=True          # Sublinear term frequency scaling\n",
    ")\n",
    "\n",
    "X_tfidf = vectorizer.fit_transform(X)\n",
    "\n",
    "# 7. Logistic Regression Model for Treatment Prediction\n",
    "# Use MultiOutputClassifier for multi-label prediction\n",
    "model = LogisticRegression(max_iter=1000)\n",
    "multi_model = MultiOutputClassifier(model, n_jobs=-1)\n",
    "\n",
    "# Train the model\n",
    "multi_model.fit(X_tfidf, y)\n",
    "\n",
    "# 8. Save the model and vectorizer for future use\n",
    "joblib.dump(multi_model, 'treatment_prediction_model.joblib')\n",
    "joblib.dump(vectorizer, 'vectorizer.joblib')\n",
    "\n",
    "print(\"Model and vectorizer saved successfully!\")\n"
   ]
  },
  {
   "cell_type": "markdown",
   "id": "7cdf53c4-bbe3-4176-a12f-eaa9c8754c48",
   "metadata": {},
   "source": [
    "<h3>TestingThe Model</h3>"
   ]
  },
  {
   "cell_type": "code",
   "execution_count": 25,
   "id": "d801ccf2-8a14-46e2-a013-e077d60fe4e7",
   "metadata": {},
   "outputs": [
    {
     "name": "stdout",
     "output_type": "stream",
     "text": [
      "Predicted treatment for 'Gastroenteritis':\n",
      " 1. Stop eating solid food for a while to give your digestive system time to rest and heal. This will allow your body to focus on recovery without the added strain of processing food.\n",
      " 2. Try taking small sips of water to stay hydrated. It's important to maintain hydration, but drinking small amounts at a time will help avoid overwhelming your system\n",
      " 3. Rest to allow your body the time it needs to heal. Avoid physical exertion, and make sure to get plenty of sleep to support recovery.\n",
      " 4. Ease back into eating gradually. Start with light, easy-to-digest foods like broths or soups, and slowly reintroduce solid food as your body tolerates it.\n"
     ]
    }
   ],
   "source": [
    "import joblib\n",
    "dis=\"Gastroenteritis\"\n",
    "# Load the saved model and vectorizer\n",
    "loaded_model = joblib.load('treatment_prediction_model.joblib')\n",
    "loaded_vectorizer = joblib.load('vectorizer.joblib')\n",
    "\n",
    "# Get the disease input as a string\n",
    "sample_disease = dis # Replace with any disease to test\n",
    "\n",
    "# Transform the input disease using the loaded vectorizer\n",
    "sample_disease_tfidf = loaded_vectorizer.transform([sample_disease])\n",
    "\n",
    "# Predict the treatment using the loaded model\n",
    "predicted_precaution = loaded_model.predict(sample_disease_tfidf)\n",
    "\n",
    "# Handle multi-output predictions for a single input (list of lists)\n",
    "predicted_precautions = predicted_precaution[0]\n",
    "\n",
    "# Output the result with each precaution on a new line\n",
    "print(f\"Predicted treatment for '{sample_disease}':\")\n",
    "i = 1\n",
    "for precaution in predicted_precautions:\n",
    "    print(f\" {i}. {precaution.strip()}\")\n",
    "    i += 1\n"
   ]
  },
  {
   "cell_type": "code",
   "execution_count": null,
   "id": "070e1169-4b47-4331-8632-f09aaea398f3",
   "metadata": {},
   "outputs": [],
   "source": []
  }
 ],
 "metadata": {
  "kernelspec": {
   "display_name": "Python 3 (ipykernel)",
   "language": "python",
   "name": "python3"
  },
  "language_info": {
   "codemirror_mode": {
    "name": "ipython",
    "version": 3
   },
   "file_extension": ".py",
   "mimetype": "text/x-python",
   "name": "python",
   "nbconvert_exporter": "python",
   "pygments_lexer": "ipython3",
   "version": "3.12.4"
  }
 },
 "nbformat": 4,
 "nbformat_minor": 5
}
