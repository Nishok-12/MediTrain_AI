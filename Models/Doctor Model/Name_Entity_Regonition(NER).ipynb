{
 "cells": [
  {
   "cell_type": "markdown",
   "id": "8b4a56a0-c1e0-449f-b8f6-c243a17aace1",
   "metadata": {},
   "source": [
    "<h3>Name Entity Regogintion(NER) for Symptoms Mapping</h3>\n",
    "<h4>Used to map the user given symptoms to actual Symptoms</h4>"
   ]
  },
  {
   "cell_type": "markdown",
   "id": "80f851be-49d0-48d8-879d-95f5c91eca0d",
   "metadata": {},
   "source": [
    "<h3>Unique Symptoms are extracted from dataset and saved as csv</h3>"
   ]
  },
  {
   "cell_type": "code",
   "execution_count": 3,
   "id": "7ab148de-a5dd-47d4-a46b-822104ef2b14",
   "metadata": {},
   "outputs": [
    {
     "name": "stdout",
     "output_type": "stream",
     "text": [
      "Unique symptoms have been saved to 'unique_symptoms.csv'.\n"
     ]
    }
   ],
   "source": [
    "import pandas as pd\n",
    "\n",
    "# Load the CSV file\n",
    "df = pd.read_csv('dataset.csv')\n",
    "\n",
    "# List of all symptom columns\n",
    "symptom_columns = [f'Symptom_{i}' for i in range(1, 18)]  # Generates Symptom_1 to Symptom_17\n",
    "\n",
    "# Combine all symptom data into a single list\n",
    "all_symptoms = df[symptom_columns].fillna('').values.ravel()  # Flatten all symptom data\n",
    "\n",
    "# Clean symptoms by removing extra spaces and ignoring empty values\n",
    "all_symptoms = [symptom.strip() for symptom in all_symptoms if symptom.strip()]\n",
    "\n",
    "# Get unique symptoms\n",
    "unique_symptoms = sorted(set(all_symptoms))  # Sort for an alphabetical list\n",
    "\n",
    "# Save the unique symptoms to a CSV file\n",
    "unique_symptoms_df = pd.DataFrame(unique_symptoms, columns=['Symptom'])  # Create DataFrame\n",
    "unique_symptoms_df.to_csv('unique_symptoms.csv', index=False)  # Save to CSV without index\n",
    "\n",
    "print(\"Unique symptoms have been saved to 'unique_symptoms.csv'.\")\n"
   ]
  },
  {
   "cell_type": "markdown",
   "id": "0ce1c7ed-ecc0-41a2-9d5a-2020a71854a5",
   "metadata": {},
   "source": [
    "<h3>Building and testing  NER.</h3>"
   ]
  },
  {
   "cell_type": "code",
   "execution_count": 5,
   "id": "d35f3d0f-8bf7-428d-b3a3-21c77c41232c",
   "metadata": {},
   "outputs": [
    {
     "name": "stdout",
     "output_type": "stream",
     "text": [
      "Extracted Symptoms: burning_micturition, stomach_pain, spotting_ urination\n"
     ]
    }
   ],
   "source": [
    "import pandas as pd\n",
    "from fuzzywuzzy import process\n",
    "from sklearn.feature_extraction.text import CountVectorizer\n",
    "import re\n",
    "\n",
    "# Step 1: Load symptoms from CSV (make sure it only contains the desired symptoms)\n",
    "df = pd.read_csv('unique_symptoms.csv')  # Replace with the path to your CSV file\n",
    "symptoms_list = df['Symptom'].dropna().tolist()  # Extract symptoms into a list\n",
    "\n",
    "# Step 2: Function to generate n-grams (bigrams)\n",
    "def generate_ngrams(text, n=2):\n",
    "    \"\"\"Generate n-grams from text.\"\"\"\n",
    "    vectorizer = CountVectorizer(ngram_range=(n, n), stop_words='english')\n",
    "    ngrams = vectorizer.fit_transform([text])\n",
    "    ngrams_list = vectorizer.get_feature_names_out()\n",
    "    return ngrams_list\n",
    "\n",
    "# Step 3: Function to extract symptoms using fuzzy matching and n-grams\n",
    "def extract_symptoms_from_input(user_input):\n",
    "    \"\"\"\n",
    "    Function to extract symptoms from user input using fuzzy matching and n-grams.\n",
    "    Returns a string of matched symptoms, separated by commas.\n",
    "    \"\"\"\n",
    "    # Normalize input text\n",
    "    user_input = user_input.lower().strip()\n",
    "\n",
    "    # Generate bigrams from the user input\n",
    "    user_input_bigrams = generate_ngrams(user_input)\n",
    "\n",
    "    # List to store matched symptoms\n",
    "    matched_symptoms = []\n",
    "\n",
    "    for symptom in symptoms_list:\n",
    "        # Check if the symptom directly matches any bigram\n",
    "        if symptom.lower() in user_input:\n",
    "            matched_symptoms.append(symptom)\n",
    "        else:\n",
    "            # Use fuzzy matching to allow for misspellings or slight variations\n",
    "            match = process.extractOne(symptom.lower(), user_input_bigrams)\n",
    "            if match and match[1] >= 80:  # Adjust threshold as needed\n",
    "                matched_symptoms.append(symptom)\n",
    "\n",
    "    # Post-processing: Optional, for more fine-tuning, e.g., removing irrelevant matches.\n",
    "    matched_symptoms = list(set(matched_symptoms))  # Remove duplicates\n",
    "\n",
    "    # Return the matched symptoms as a single string, joined by commas\n",
    "    return ', '.join(matched_symptoms)\n",
    "\n",
    "# Example usage:\n",
    "user_input = \"Hello, Doctor. I’ve been feeling quit heade uncomfortable lately. I’ve been having a lot of stomach pain, especially around my abdomen. It feels like a constant ache, and sometimes it gets sharp.Additionally, I’ve noticed burning micturition whenever I go to the bathroom. The pain is sharp, and it’s very uncomfortable.Lastly, there has been some spotting urination; I see a little bit of blood when I urinate, and I’m really worried about it.Could you help me figure out what’s going on?\"  # Example user input\n",
    "extracted_symptoms = extract_symptoms_from_input(user_input)\n",
    "\n",
    "print(\"Extracted Symptoms:\", extracted_symptoms)\n"
   ]
  },
  {
   "cell_type": "code",
   "execution_count": null,
   "id": "4f0cbbb0-030c-4bbb-bb50-efe18ac5dbca",
   "metadata": {},
   "outputs": [],
   "source": []
  }
 ],
 "metadata": {
  "kernelspec": {
   "display_name": "Python 3 (ipykernel)",
   "language": "python",
   "name": "python3"
  },
  "language_info": {
   "codemirror_mode": {
    "name": "ipython",
    "version": 3
   },
   "file_extension": ".py",
   "mimetype": "text/x-python",
   "name": "python",
   "nbconvert_exporter": "python",
   "pygments_lexer": "ipython3",
   "version": "3.12.4"
  }
 },
 "nbformat": 4,
 "nbformat_minor": 5
}
