{
 "cells": [
  {
   "cell_type": "markdown",
   "id": "54f18b98-230f-4181-94e4-f376776da82e",
   "metadata": {},
   "source": [
    "<h3>Training Disease Prediction Model Using Logistic Regression.</h3>"
   ]
  },
  {
   "cell_type": "code",
   "execution_count": 17,
   "id": "57bb64c4-d3b2-44d8-9d4c-1f1c525e9326",
   "metadata": {},
   "outputs": [
    {
     "name": "stdout",
     "output_type": "stream",
     "text": [
      "Loading dataset...\n",
      "Dataset loaded with 4920 rows and 18 columns.\n",
      "Handling missing values...\n",
      "Combining symptom columns into a single text column...\n",
      "Encoding disease labels...\n",
      "Dataset after cleaning: 4920 rows.\n",
      "Splitting data into training and testing sets...\n",
      "Training set size: 3936 samples, Test set size: 984 samples.\n",
      "Vectorizing symptoms using TF-IDF...\n",
      "Training Logistic Regression model...\n",
      "Evaluating model on test data...\n",
      "Test Accuracy: 1.0000\n"
     ]
    }
   ],
   "source": [
    "import pandas as pd\n",
    "from sklearn.model_selection import train_test_split\n",
    "from sklearn.preprocessing import LabelEncoder\n",
    "from sklearn.feature_extraction.text import TfidfVectorizer\n",
    "from sklearn.linear_model import LogisticRegression\n",
    "from sklearn.metrics import accuracy_score\n",
    "import numpy as np\n",
    "\n",
    "# 1. Load CSV data\n",
    "print(\"Loading dataset...\")\n",
    "df = pd.read_csv('dataset.csv')\n",
    "print(f\"Dataset loaded with {df.shape[0]} rows and {df.shape[1]} columns.\")\n",
    "\n",
    "# 2. Handle missing values (Fill missing symptoms with \"No symptom\")\n",
    "print(\"Handling missing values...\")\n",
    "df.fillna('No symptom', inplace=True)\n",
    "\n",
    "# 3. Combine symptom columns into a single text column\n",
    "print(\"Combining symptom columns into a single text column...\")\n",
    "df['Symptoms'] = df[['Symptom_1', 'Symptom_2', 'Symptom_3', 'Symptom_4', 'Symptom_5', 'Symptom_6', 'Symptom_7', 'Symptom_8', 'Symptom_9', 'Symptom_10', 'Symptom_11', 'Symptom_12', 'Symptom_13' ,  'Symptom_14' ,'Symptom_15', 'Symptom_16', 'Symptom_17']].apply(lambda row: ' '.join(row), axis=1)\n",
    "\n",
    "# 4. Encode disease names into numeric labels\n",
    "print(\"Encoding disease labels...\")\n",
    "label_encoder = LabelEncoder()\n",
    "df['Disease_Label'] = label_encoder.fit_transform(df['Disease'])\n",
    "\n",
    "# Remove rows where 'Symptoms' or 'Disease' column might have NaN values\n",
    "df = df.dropna(subset=['Symptoms', 'Disease'])\n",
    "print(f\"Dataset after cleaning: {df.shape[0]} rows.\")\n",
    "\n",
    "# Define features (X) and labels (y)\n",
    "X = df['Symptoms']  # Text data (symptoms)\n",
    "y = df['Disease_Label']  # Labels (numeric encoded diseases)\n",
    "\n",
    "# 5. Split the data into training and testing sets\n",
    "print(\"Splitting data into training and testing sets...\")\n",
    "X_train, X_test, y_train, y_test = train_test_split(X, y, test_size=0.2, random_state=42)\n",
    "print(f\"Training set size: {len(X_train)} samples, Test set size: {len(X_test)} samples.\")\n",
    "\n",
    "# Reset indices to avoid index mismatches\n",
    "X_train = X_train.reset_index(drop=True)\n",
    "X_test = X_test.reset_index(drop=True)\n",
    "y_train = y_train.reset_index(drop=True)\n",
    "y_test = y_test.reset_index(drop=True)\n",
    "\n",
    "# 6. TF-IDF Vectorization\n",
    "print(\"Vectorizing symptoms using TF-IDF...\")\n",
    "vectorizer = TfidfVectorizer(max_features=5000, stop_words='english')  # Adjust max_features as needed\n",
    "X_train_tfidf = vectorizer.fit_transform(X_train)\n",
    "X_test_tfidf = vectorizer.transform(X_test)\n",
    "\n",
    "# 7. Train Logistic Regression model\n",
    "print(\"Training Logistic Regression model...\")\n",
    "model = LogisticRegression(max_iter=1000)  # Increase max_iter if convergence issues occur\n",
    "model.fit(X_train_tfidf, y_train)\n",
    "\n",
    "# 8. Evaluate model on test data\n",
    "print(\"Evaluating model on test data...\")\n",
    "y_pred = model.predict(X_test_tfidf)\n",
    "\n",
    "# Calculate accuracy\n",
    "accuracy = accuracy_score(y_test, y_pred)\n",
    "print(f\"Test Accuracy: {accuracy:.4f}\")\n",
    "\n",
    "\n"
   ]
  },
  {
   "cell_type": "markdown",
   "id": "0c7d124a-b816-4d5d-b206-dd05e777e294",
   "metadata": {},
   "source": [
    "<h3>Testing The model</h3>"
   ]
  },
  {
   "cell_type": "code",
   "execution_count": 21,
   "id": "62f4713a-042e-47ee-b230-67264261f6c8",
   "metadata": {},
   "outputs": [
    {
     "name": "stdout",
     "output_type": "stream",
     "text": [
      "Predicted Disease: Drug Reaction\n"
     ]
    }
   ],
   "source": [
    "# Example prediction\n",
    "sample_input =  \"stomach_pain, burning_micturition, spotting_ urination\"\n",
    "sample_tfidf = vectorizer.transform([sample_input])\n",
    "predicted_label = model.predict(sample_tfidf)\n",
    "predicted_disease = label_encoder.inverse_transform(predicted_label)\n",
    "print(f\"Predicted Disease: {predicted_disease[0]}\")"
   ]
  },
  {
   "cell_type": "markdown",
   "id": "9f25471e-1211-478a-bb87-fe063e437e0d",
   "metadata": {},
   "source": [
    "<h3>Saving the Model</h3>"
   ]
  },
  {
   "cell_type": "code",
   "execution_count": 22,
   "id": "e9e19ff3-37d9-4d28-b98f-901024e1f00e",
   "metadata": {},
   "outputs": [
    {
     "name": "stdout",
     "output_type": "stream",
     "text": [
      "Saving Logistic Regression model...\n",
      "Saving TF-IDF vectorizer...\n",
      "Saving LabelEncoder...\n",
      "Model, vectorizer, and label encoder saved successfully.\n"
     ]
    }
   ],
   "source": [
    "import joblib\n",
    "\n",
    "# Save the Logistic Regression model\n",
    "print(\"Saving Logistic Regression model...\")\n",
    "joblib.dump(model, 'logistic_regression_model.pkl')\n",
    "\n",
    "# Save the TF-IDF vectorizer\n",
    "print(\"Saving TF-IDF vectorizer...\")\n",
    "joblib.dump(vectorizer, 'tfidf_vectorizer.pkl')\n",
    "\n",
    "# Save the LabelEncoder\n",
    "print(\"Saving LabelEncoder...\")\n",
    "joblib.dump(label_encoder, 'label_encoder.pkl')\n",
    "\n",
    "# If any other preprocessing steps were done, save those as well\n",
    "# For example, saving the entire pipeline if used\n",
    "# joblib.dump(preprocessing_pipeline, 'preprocessing_pipeline.pkl')\n",
    "\n",
    "print(\"Model, vectorizer, and label encoder saved successfully.\")\n"
   ]
  },
  {
   "cell_type": "markdown",
   "id": "89902cfb-4e2e-4a6b-a39c-d4492f38930c",
   "metadata": {},
   "source": [
    "<h3>Testing the Saved Model</h3>"
   ]
  },
  {
   "cell_type": "code",
   "execution_count": 25,
   "id": "95f73879-e24a-4b34-a7e9-4af08d15ced6",
   "metadata": {},
   "outputs": [
    {
     "name": "stdout",
     "output_type": "stream",
     "text": [
      "Predicted Disease: Gastroenteritis\n"
     ]
    }
   ],
   "source": [
    "import joblib\n",
    "\n",
    "# Load the saved Logistic Regression model\n",
    "loaded_model = joblib.load('logistic_regression_model.pkl')\n",
    "\n",
    "# Load the saved TF-IDF vectorizer\n",
    "loaded_vectorizer = joblib.load('tfidf_vectorizer.pkl')\n",
    "\n",
    "# Load the saved LabelEncoder (if not already loaded)\n",
    "label_encoder = joblib.load('label_encoder.pkl')\n",
    "\n",
    "# Example of using the loaded model for prediction\n",
    "sample_input = \"sunken_eyes\"  # Example user input\n",
    "sample_tfidf = loaded_vectorizer.transform([sample_input])  # Transform input using TF-IDF\n",
    "\n",
    "# Predict the disease label\n",
    "predicted_label = loaded_model.predict(sample_tfidf)\n",
    "\n",
    "# Decode the predicted label to get the actual disease name(s)\n",
    "predicted_disease = label_encoder.inverse_transform(predicted_label)\n",
    "\n",
    "# Output the predicted disease as a string\n",
    "predicted_disease_string = predicted_disease[0]  # Since there's only one prediction, we get the first one\n",
    "\n",
    "print(f\"Predicted Disease: {predicted_disease_string}\")\n",
    "\n"
   ]
  },
  {
   "cell_type": "code",
   "execution_count": null,
   "id": "d815fcf7-8772-4549-bd30-f8f841a4431a",
   "metadata": {},
   "outputs": [],
   "source": []
  }
 ],
 "metadata": {
  "kernelspec": {
   "display_name": "Python 3 (ipykernel)",
   "language": "python",
   "name": "python3"
  },
  "language_info": {
   "codemirror_mode": {
    "name": "ipython",
    "version": 3
   },
   "file_extension": ".py",
   "mimetype": "text/x-python",
   "name": "python",
   "nbconvert_exporter": "python",
   "pygments_lexer": "ipython3",
   "version": "3.12.4"
  }
 },
 "nbformat": 4,
 "nbformat_minor": 5
}
